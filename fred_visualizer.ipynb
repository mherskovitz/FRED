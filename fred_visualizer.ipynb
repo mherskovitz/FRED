{
  "nbformat": 4,
  "nbformat_minor": 0,
  "metadata": {
    "colab": {
      "provenance": [],
      "include_colab_link": true
    },
    "kernelspec": {
      "name": "python3",
      "display_name": "Python 3"
    },
    "language_info": {
      "name": "python"
    }
  },
  "cells": [
    {
      "cell_type": "markdown",
      "metadata": {
        "id": "view-in-github",
        "colab_type": "text"
      },
      "source": [
        "<a href=\"https://colab.research.google.com/github/mherskovitz/FRED/blob/main/fred_visualizer.ipynb\" target=\"_parent\"><img src=\"https://colab.research.google.com/assets/colab-badge.svg\" alt=\"Open In Colab\"/></a>"
      ]
    },
    {
      "cell_type": "markdown",
      "source": [
        "# 📊 FRED Corporate Bond Data Visualizer with Interactive UI\n",
        "\n",
        "This notebook retrieves, plots, and downloads corporate yield and OAS data from FRED with an interactive user interface.\n",
        "\n",
        "**Features:**\n",
        "- Interactive date range selection\n",
        "- Multiple series plotting with statistical overlays\n",
        "- Dual-axis comparison charts\n",
        "- Custom series support\n",
        "- Automatic file downloads (PNG & HTML)\n",
        "\n",
        "**Requirements:**\n",
        "- FRED API key stored in Google Colab Secrets as 'FRED_API'"
      ],
      "metadata": {
        "id": "title_cell"
      }
    },
    {
      "cell_type": "markdown",
      "source": [
        "## 1. Install Required Libraries"
      ],
      "metadata": {
        "id": "install_header"
      }
    },
    {
      "cell_type": "code",
      "source": [
        "!pip install fredapi plotly kaleido pandas_datareader ipywidgets\n"
      ],
      "metadata": {
        "id": "install_cell"
      },
      "execution_count": null,
      "outputs": []
    },
    {
      "cell_type": "markdown",
      "source": [
        "## 2. Import Libraries"
      ],
      "metadata": {
        "id": "import_header"
      }
    },
    {
      "cell_type": "code",
      "source": [
        "import pandas as pd\n",
        "import pandas_datareader.data as web\n",
        "import plotly.express as px\n",
        "import plotly.graph_objects as go\n",
        "import datetime\n",
        "from datetime import date, timedelta\n",
        "from fredapi import Fred\n",
        "from google.colab import userdata, files\n",
        "import ipywidgets as widgets\n",
        "from IPython.display import display, clear_output\n",
        "import io\n",
        "import os"
      ],
      "metadata": {
        "id": "import_cell"
      },
      "execution_count": null,
      "outputs": []
    },
    {
      "cell_type": "markdown",
      "source": [
        "## 3. FRED API Setup"
      ],
      "metadata": {
        "id": "api_header"
      }
    },
    {
      "cell_type": "code",
      "source": [
        "# Access the FRED API key from Google Secrets\n",
        "try:\n",
        "    FRED_API_KEY = userdata.get('FRED_API')\n",
        "    fred = Fred(api_key=FRED_API_KEY)\n",
        "    print(\"✅ FRED API connected successfully!\")\n",
        "except Exception as e:\n",
        "    raise Exception(\"❌ Failed to retrieve FRED API key from Google Secrets. Ensure the secret is set up correctly.\") from e"
      ],
      "metadata": {
        "id": "api_cell"
      },
      "execution_count": null,
      "outputs": []
    },
    {
      "cell_type": "markdown",
      "source": [
        "## 4. Core Data Functions"
      ],
      "metadata": {
        "id": "functions_header"
      }
    },
    {
      "cell_type": "code",
      "source": [
        "def fetch_fred_data(series_id, start_date, end_date):\n",
        "    \"\"\"\n",
        "    Fetch data and metadata from FRED using the series ID.\n",
        "\n",
        "    Parameters:\n",
        "    - series_id: str, the FRED series ID\n",
        "    - start_date: str, start date in 'YYYY-MM-DD' format\n",
        "    - end_date: str, end date in 'YYYY-MM-DD' format\n",
        "\n",
        "    Returns:\n",
        "    - pd.DataFrame: the fetched data\n",
        "    - str: the series name (title)\n",
        "    \"\"\"\n",
        "    try:\n",
        "        # Fetch data using pandas_datareader\n",
        "        data = web.DataReader(series_id, 'fred', start_date, end_date)\n",
        "\n",
        "        # Fetch metadata using fredapi\n",
        "        series_info = fred.get_series_info(series_id)\n",
        "        series_name = series_info.get('title', series_id)\n",
        "\n",
        "        return data, series_name\n",
        "    except Exception as e:\n",
        "        print(f\"❌ Error fetching {series_id}: {str(e)}\")\n",
        "        raise\n",
        "\n",
        "def create_statistical_plot(data, series_id, series_name):\n",
        "    \"\"\"Create a plotly figure with statistical overlays\"\"\"\n",
        "    # Calculate statistics\n",
        "    avg_rate = data[series_id].mean()\n",
        "    std_dev = data[series_id].std()\n",
        "\n",
        "    # Create base plot\n",
        "    fig = px.line(data, x=data.index, y=series_id, title=series_name)\n",
        "\n",
        "    # Add statistical lines\n",
        "    fig.add_trace(go.Scatter(\n",
        "        x=data.index, y=[avg_rate] * len(data),\n",
        "        mode='lines', name='Average',\n",
        "        line=dict(color='red', dash='dash')\n",
        "    ))\n",
        "\n",
        "    fig.add_trace(go.Scatter(\n",
        "        x=data.index, y=[avg_rate + std_dev] * len(data),\n",
        "        mode='lines', name='+1 Std Dev',\n",
        "        line=dict(color='green', dash='dash')\n",
        "    ))\n",
        "\n",
        "    fig.add_trace(go.Scatter(\n",
        "        x=data.index, y=[avg_rate - std_dev] * len(data),\n",
        "        mode='lines', name='-1 Std Dev',\n",
        "        line=dict(color='green', dash='dash')\n",
        "    ))\n",
        "\n",
        "    fig.update_layout(\n",
        "        xaxis_title='Date',\n",
        "        yaxis_title='Rate (%)',\n",
        "        showlegend=True\n",
        "    )\n",
        "\n",
        "    return fig"
      ],
      "metadata": {
        "id": "functions_cell"
      },
      "execution_count": null,
      "outputs": []
    },
    {
      "cell_type": "markdown",
      "source": [
        "## 5. Enhanced Plotting Functions"
      ],
      "metadata": {
        "id": "plotting_header"
      }
    },
    {
      "cell_type": "code",
      "source": [
        "def plot_fred_data_enhanced(series_ids, start_date=None, end_date=None, output_dir='plots',\n",
        "                           download_html=True, download_png=True):\n",
        "    \"\"\"Enhanced plotting function with flexible parameters\"\"\"\n",
        "\n",
        "    # Set default dates if not provided\n",
        "    if end_date is None:\n",
        "        end_date = datetime.datetime.now()\n",
        "    if start_date is None:\n",
        "        start_date = end_date - datetime.timedelta(days=10 * 365)\n",
        "\n",
        "    # Convert dates to strings if they're date objects\n",
        "    if hasattr(start_date, 'strftime'):\n",
        "        start_date_str = start_date.strftime('%Y-%m-%d')\n",
        "    else:\n",
        "        start_date_str = start_date\n",
        "\n",
        "    if hasattr(end_date, 'strftime'):\n",
        "        end_date_str = end_date.strftime('%Y-%m-%d')\n",
        "    else:\n",
        "        end_date_str = end_date\n",
        "\n",
        "    # Create output directory\n",
        "    os.makedirs(output_dir, exist_ok=True)\n",
        "\n",
        "    for series_id in series_ids:\n",
        "        try:\n",
        "            # Fetch data\n",
        "            data, series_name = fetch_fred_data(series_id, start_date_str, end_date_str)\n",
        "            data = data.dropna()\n",
        "\n",
        "            if data.empty:\n",
        "                print(f\"⚠️ No data available for {series_id} in the selected date range.\")\n",
        "                continue\n",
        "\n",
        "            # Create plot\n",
        "            fig = create_statistical_plot(data, series_id, series_name)\n",
        "\n",
        "            # Save files\n",
        "            if download_html:\n",
        "                html_filepath = os.path.join(output_dir, f\"{series_id}.html\")\n",
        "                fig.write_html(html_filepath)\n",
        "                files.download(html_filepath)\n",
        "\n",
        "            if download_png:\n",
        "                png_filepath = os.path.join(output_dir, f\"{series_id}.png\")\n",
        "                fig.write_image(png_filepath)\n",
        "                files.download(png_filepath)\n",
        "\n",
        "            # Display plot\n",
        "            fig.show()\n",
        "            print(f\"✅ Successfully plotted {series_id}\")\n",
        "\n",
        "        except Exception as e:\n",
        "            print(f\"❌ Error plotting {series_id}: {str(e)}\")"
      ],
      "metadata": {
        "id": "plotting_cell"
      },
      "execution_count": null,
      "outputs": []
    },
    {
      "cell_type": "code",
      "source": [
        "def plot_dual_axis_enhanced(yield_series_id, spread_series_id, start_date=None, end_date=None,\n",
        "                           output_dir='plots', download_html=True, download_png=True):\n",
        "    \"\"\"Enhanced dual-axis plotting function\"\"\"\n",
        "\n",
        "    # Set default dates if not provided\n",
        "    if end_date is None:\n",
        "        end_date = datetime.datetime.now()\n",
        "    if start_date is None:\n",
        "        start_date = end_date - datetime.timedelta(days=10 * 365)\n",
        "\n",
        "    # Convert dates to strings if they're date objects\n",
        "    if hasattr(start_date, 'strftime'):\n",
        "        start_date_str = start_date.strftime('%Y-%m-%d')\n",
        "    else:\n",
        "        start_date_str = start_date\n",
        "\n",
        "    if hasattr(end_date, 'strftime'):\n",
        "        end_date_str = end_date.strftime('%Y-%m-%d')\n",
        "    else:\n",
        "        end_date_str = end_date\n",
        "\n",
        "    os.makedirs(output_dir, exist_ok=True)\n",
        "\n",
        "    try:\n",
        "        # Fetch both datasets\n",
        "        yield_data, yield_name = fetch_fred_data(yield_series_id, start_date_str, end_date_str)\n",
        "        spread_data, spread_name = fetch_fred_data(spread_series_id, start_date_str, end_date_str)\n",
        "\n",
        "        # Combine data\n",
        "        combined_data = pd.concat([\n",
        "            yield_data[yield_series_id],\n",
        "            spread_data[spread_series_id]\n",
        "        ], axis=1).dropna()\n",
        "\n",
        "        if combined_data.empty:\n",
        "            print(\"⚠️ No overlapping data available for the selected series and date range.\")\n",
        "            return\n",
        "\n",
        "        # Create dual-axis figure\n",
        "        fig = go.Figure()\n",
        "\n",
        "        # Add primary trace (left axis)\n",
        "        fig.add_trace(go.Scatter(\n",
        "            x=combined_data.index,\n",
        "            y=combined_data[yield_series_id],\n",
        "            name=yield_name,\n",
        "            line=dict(color='blue')\n",
        "        ))\n",
        "\n",
        "        # Add secondary trace (right axis)\n",
        "        fig.add_trace(go.Scatter(\n",
        "            x=combined_data.index,\n",
        "            y=combined_data[spread_series_id],\n",
        "            name=spread_name,\n",
        "            line=dict(color='red'),\n",
        "            yaxis='y2'\n",
        "        ))\n",
        "\n",
        "        # Add average lines\n",
        "        yield_avg = combined_data[yield_series_id].mean()\n",
        "        spread_avg = combined_data[spread_series_id].mean()\n",
        "\n",
        "        fig.add_trace(go.Scatter(\n",
        "            x=combined_data.index,\n",
        "            y=[yield_avg] * len(combined_data),\n",
        "            name='Yield Average',\n",
        "            line=dict(color='blue', dash='dash'),\n",
        "            opacity=0.5\n",
        "        ))\n",
        "\n",
        "        fig.add_trace(go.Scatter(\n",
        "            x=combined_data.index,\n",
        "            y=[spread_avg] * len(combined_data),\n",
        "            name='Spread Average',\n",
        "            line=dict(color='red', dash='dash'),\n",
        "            opacity=0.5,\n",
        "            yaxis='y2'\n",
        "        ))\n",
        "\n",
        "        # Update layout\n",
        "        fig.update_layout(\n",
        "            title=f'Comparison: {yield_name} vs {spread_name}',\n",
        "            xaxis_title='Date',\n",
        "            yaxis=dict(\n",
        "                title='Yield (%)',\n",
        "                titlefont=dict(color='blue'),\n",
        "                tickfont=dict(color='blue')\n",
        "            ),\n",
        "            yaxis2=dict(\n",
        "                title='Spread (bps)',\n",
        "                titlefont=dict(color='red'),\n",
        "                tickfont=dict(color='red'),\n",
        "                overlaying='y',\n",
        "                side='right'\n",
        "            ),\n",
        "            showlegend=True\n",
        "        )\n",
        "\n",
        "        # Save files\n",
        "        filename_base = f\"comparison_{yield_series_id}_vs_{spread_series_id}\"\n",
        "\n",
        "        if download_html:\n",
        "            html_filepath = os.path.join(output_dir, f\"{filename_base}.html\")\n",
        "            fig.write_html(html_filepath)\n",
        "            files.download(html_filepath)\n",
        "\n",
        "        if download_png:\n",
        "            png_filepath = os.path.join(output_dir, f\"{filename_base}.png\")\n",
        "            fig.write_image(png_filepath)\n",
        "            files.download(png_filepath)\n",
        "\n",
        "        fig.show()\n",
        "        print(f\"✅ Successfully created comparison plot\")\n",
        "\n",
        "    except Exception as e:\n",
        "        print(f\"❌ Error creating comparison plot: {str(e)}\")"
      ],
      "metadata": {
        "id": "dual_axis_cell"
      },
      "execution_count": null,
      "outputs": []
    },
    {
      "cell_type": "markdown",
      "source": [
        "## 6. Interactive User Interface"
      ],
      "metadata": {
        "id": "ui_header"
      }
    },
    {
      "cell_type": "code",
      "source": [
        "class FREDDataVisualizer:\n",
        "    def __init__(self):\n",
        "        self.series_options = {\n",
        "            'BAMLH0A0HYM2': 'High Yield Corporate Bond Option-Adjusted Spread',\n",
        "            'BAMLC0A0CMEY': 'Investment Grade Corporate Master Effective Yield',\n",
        "            'BAMLC0A3CAEY': 'Investment Grade Corporate 3-5 Year Effective Yield',\n",
        "            'BAMLC0A0CM': 'Investment Grade Corporate Option-Adjusted Spread',\n",
        "            'DGS10': '10-Year Treasury Constant Maturity Rate',\n",
        "            'DGS2': '2-Year Treasury Constant Maturity Rate',\n",
        "            'BAMLC1A0C13Y': 'Investment Grade Corporate 1-3 Year Effective Yield',\n",
        "            'BAMLC4A0C710Y': 'Investment Grade Corporate 7-10 Year Effective Yield'\n",
        "        }\n",
        "        self.setup_ui()\n",
        "\n",
        "    def setup_ui(self):\n",
        "        \"\"\"Create the interactive user interface\"\"\"\n",
        "\n",
        "        # Title\n",
        "        self.title = widgets.HTML(\n",
        "            value=\"<h2>📊 FRED Financial Data Visualizer</h2>\",\n",
        "            layout=widgets.Layout(margin='0 0 20px 0')\n",
        "        )\n",
        "\n",
        "        # Date controls\n",
        "        self.start_date = widgets.DatePicker(\n",
        "            description='Start Date:',\n",
        "            value=date.today() - timedelta(days=10*365),\n",
        "            style={'description_width': 'initial'}\n",
        "        )\n",
        "\n",
        "        self.end_date = widgets.DatePicker(\n",
        "            description='End Date:',\n",
        "            value=date.today(),\n",
        "            style={'description_width': 'initial'}\n",
        "        )\n",
        "\n",
        "        # Series selection\n",
        "        self.series_selector = widgets.SelectMultiple(\n",
        "            options=[(f\"{code}: {desc}\", code) for code, desc in self.series_options.items()],\n",
        "            value=['BAMLH0A0HYM2', 'BAMLC0A0CMEY'],\n",
        "            description='Select Series:',\n",
        "            style={'description_width': 'initial'},\n",
        "            layout=widgets.Layout(height='150px', width='600px')\n",
        "        )\n",
        "\n",
        "        # Custom series\n",
        "        self.custom_series = widgets.Text(\n",
        "            placeholder='Enter custom FRED series ID',\n",
        "            description='Custom Series:',\n",
        "            style={'description_width': 'initial'},\n",
        "            layout=widgets.Layout(width='400px')\n",
        "        )\n",
        "\n",
        "        # Comparison controls\n",
        "        self.yield_series = widgets.Dropdown(\n",
        "            options=[(f\"{code}: {desc}\", code) for code, desc in self.series_options.items()],\n",
        "            value='BAMLC0A0CMEY',\n",
        "            description='Yield Series:',\n",
        "            style={'description_width': 'initial'},\n",
        "            layout=widgets.Layout(width='500px')\n",
        "        )\n",
        "\n",
        "        self.spread_series = widgets.Dropdown(\n",
        "            options=[(f\"{code}: {desc}\", code) for code, desc in self.series_options.items()],\n",
        "            value='BAMLH0A0HYM2',\n",
        "            description='Spread Series:',\n",
        "            style={'description_width': 'initial'},\n",
        "            layout=widgets.Layout(width='500px')\n",
        "        )\n",
        "\n",
        "        # Options\n",
        "        self.output_dir = widgets.Text(\n",
        "            value='fred_plots',\n",
        "            description='Output Directory:',\n",
        "            style={'description_width': 'initial'}\n",
        "        )\n",
        "\n",
        "        self.download_html = widgets.Checkbox(value=True, description='Download HTML')\n",
        "        self.download_png = widgets.Checkbox(value=True, description='Download PNG')\n",
        "\n",
        "        # Buttons\n",
        "        self.plot_btn = widgets.Button(\n",
        "            description='📈 Plot Selected Series',\n",
        "            button_style='primary',\n",
        "            layout=widgets.Layout(width='200px')\n",
        "        )\n",
        "\n",
        "        self.comparison_btn = widgets.Button(\n",
        "            description='📊 Create Comparison',\n",
        "            button_style='success',\n",
        "            layout=widgets.Layout(width='200px')\n",
        "        )\n",
        "\n",
        "        self.add_custom_btn = widgets.Button(\n",
        "            description='➕ Add Custom',\n",
        "            button_style='info',\n",
        "            layout=widgets.Layout(width='150px')\n",
        "        )\n",
        "\n",
        "        # Output\n",
        "        self.output = widgets.Output()\n",
        "\n",
        "        # Event handlers\n",
        "        self.plot_btn.on_click(self.plot_series)\n",
        "        self.comparison_btn.on_click(self.plot_comparison)\n",
        "        self.add_custom_btn.on_click(self.add_custom)\n",
        "\n",
        "        # Layout\n",
        "        self.ui = widgets.VBox([\n",
        "            self.title,\n",
        "            widgets.HBox([self.start_date, self.end_date]),\n",
        "            widgets.HTML(\"<br><b>📋 Series Selection:</b>\"),\n",
        "            self.series_selector,\n",
        "            widgets.HBox([self.custom_series, self.add_custom_btn]),\n",
        "            widgets.HTML(\"<br><b>🔄 Comparison Setup:</b>\"),\n",
        "            self.yield_series,\n",
        "            self.spread_series,\n",
        "            widgets.HTML(\"<br><b>⚙️ Options:</b>\"),\n",
        "            widgets.HBox([self.output_dir, self.download_html, self.download_png]),\n",
        "            widgets.HTML(\"<br>\"),\n",
        "            widgets.HBox([self.plot_btn, self.comparison_btn]),\n",
        "            self.output\n",
        "        ])\n",
        "\n",
        "    def add_custom(self, btn):\n",
        "        \"\"\"Add custom series\"\"\"\n",
        "        custom_id = self.custom_series.value.strip().upper()\n",
        "        if custom_id and custom_id not in self.series_options:\n",
        "            try:\n",
        "                series_info = fred.get_series_info(custom_id)\n",
        "                series_name = series_info.get('title', custom_id)\n",
        "                self.series_options[custom_id] = series_name\n",
        "\n",
        "                # Update options\n",
        "                new_options = [(f\"{code}: {desc}\", code) for code, desc in self.series_options.items()]\n",
        "                self.series_selector.options = new_options\n",
        "                self.yield_series.options = new_options\n",
        "                self.spread_series.options = new_options\n",
        "\n",
        "                self.custom_series.value = ''\n",
        "\n",
        "                with self.output:\n",
        "                    print(f\"✅ Added: {custom_id} - {series_name}\")\n",
        "\n",
        "            except Exception as e:\n",
        "                with self.output:\n",
        "                    print(f\"❌ Error adding {custom_id}: {str(e)}\")\n",
        "\n",
        "    def plot_series(self, btn):\n",
        "        \"\"\"Plot individual series\"\"\"\n",
        "        with self.output:\n",
        "            clear_output()\n",
        "            selected = list(self.series_selector.value)\n",
        "            if not selected:\n",
        "                print(\"❌ Please select at least one series\")\n",
        "                return\n",
        "\n",
        "            plot_fred_data_enhanced(\n",
        "                series_ids=selected,\n",
        "                start_date=self.start_date.value,\n",
        "                end_date=self.end_date.value,\n",
        "                output_dir=self.output_dir.value,\n",
        "                download_html=self.download_html.value,\n",
        "                download_png=self.download_png.value\n",
        "            )\n",
        "\n",
        "    def plot_comparison(self, btn):\n",
        "        \"\"\"Create comparison plot\"\"\"\n",
        "        with self.output:\n",
        "            clear_output()\n",
        "            plot_dual_axis_enhanced(\n",
        "                yield_series_id=self.yield_series.value,\n",
        "                spread_series_id=self.spread_series.value,\n",
        "                start_date=self.start_date.value,\n",
        "                end_date=self.end_date.value,\n",
        "                output_dir=self.output_dir.value,\n",
        "                download_html=self.download_html.value,\n",
        "                download_png=self.download_png.value\n",
        "            )\n",
        "\n",
        "    def display(self):\n",
        "        \"\"\"Display the UI\"\"\"\n",
        "        display(self.ui)"
      ],
      "metadata": {
        "id": "ui_class_cell"
      },
      "execution_count": null,
      "outputs": []
    },
    {
      "cell_type": "markdown",
      "source": [
        "## 7. Quick Start Functions (Backward Compatibility)"
      ],
      "metadata": {
        "id": "quickstart_header"
      }
    },
    {
      "cell_type": "code",
      "source": [
        "def quick_plot_series(series_ids=None):\n",
        "    \"\"\"Quick function to plot default series\"\"\"\n",
        "    if series_ids is None:\n",
        "        series_ids = ['BAMLH0A0HYM2', 'BAMLC0A0CMEY', 'BAMLC0A3CAEY']\n",
        "\n",
        "    plot_fred_data_enhanced(series_ids)\n",
        "\n",
        "def quick_comparison():\n",
        "    \"\"\"Quick function to create default comparison\"\"\"\n",
        "    plot_dual_axis_enhanced('BAMLC0A0CMEY', 'BAMLH0A0HYM2')\n",
        "\n",
        "print(\"🚀 FRED Data Visualizer Ready!\")\n",
        "print(\"\\nQuick Start Options:\")\n",
        "print(\"1. Interactive UI: visualizer = FREDDataVisualizer(); visualizer.display()\")\n",
        "print(\"2. Quick plot: quick_plot_series()\")\n",
        "print(\"3. Quick comparison: quick_comparison()\")"
      ],
      "metadata": {
        "id": "quickstart_cell"
      },
      "execution_count": null,
      "outputs": []
    },
    {
      "cell_type": "markdown",
      "source": [
        "## 8. Launch Interactive UI\n",
        "\n",
        "Run the cell below to start the interactive interface:"
      ],
      "metadata": {
        "id": "launch_header"
      }
    },
    {
      "cell_type": "code",
      "source": [
        "# Create and launch the interactive visualizer\n",
        "visualizer = FREDDataVisualizer()\n",
        "visualizer.display()"
      ],
      "metadata": {
        "id": "launch_cell"
      },
      "execution_count": null,
      "outputs": []
    },
    {
      "cell_type": "markdown",
      "source": [
        "## 9. Alternative: Run Original Functions\n",
        "\n",
        "If you prefer to use the original functions without the UI:"
      ],
      "metadata": {
        "id": "alternative_header"
      }
    },
    {
      "cell_type": "code",
      "source": [
        "# Example: Plot specific series with custom date range\n",
        "# plot_fred_data_enhanced(\n",
        "#     series_ids=['BAMLH0A0HYM2', 'BAMLC0A0CMEY'],\n",
        "#     start_date=date(2020, 1, 1),\n",
        "#     end_date=date.today(),\n",
        "#     output_dir='my_plots'\n",
        "# )\n",
        "\n",
        "# Example: Create comparison chart\n",
        "# plot_dual_axis_enhanced(\n",
        "#     yield_series_id='BAMLC0A0CMEY',\n",
        "#     spread_series_id='BAMLH0A0HYM2'\n",
        "# )\n",
        "\n",
        "print(\"💡 Uncomment and run the examples above to use the functions directly!\")"
      ],
      "metadata": {
        "id": "alternative_cell"
      },
      "execution_count": null,
      "outputs": []
    },
    {
      "cell_type": "code",
      "source": [],
      "metadata": {
        "id": "I3Rpk9alurNq"
      },
      "execution_count": null,
      "outputs": []
    },
    {
      "cell_type": "markdown",
      "metadata": {
        "id": "e0672f35"
      },
      "source": [
        "## Resolving Widget Metadata Issues\n",
        "\n",
        "If you encounter issues when saving or exporting the notebook (e.g., \"the 'state' key is missing from 'metadata.widgets'\"), this is likely due to the interactive widget output. To resolve this, clear the output of the cell that launches the interactive UI before saving or uploading the notebook."
      ]
    },
    {
      "cell_type": "code",
      "metadata": {
        "collapsed": true,
        "id": "5b281409"
      },
      "source": [
        "# Clear the output of the cell that launches the interactive UI\n",
        "# This helps prevent metadata issues when saving the notebook\n",
        "from IPython.display import clear_output\n",
        "clear_output(wait=True)\n",
        "print(\"✅ Widget output cleared. You can now save/export the notebook without widget metadata errors.\")"
      ],
      "execution_count": null,
      "outputs": []
    }
  ]
}